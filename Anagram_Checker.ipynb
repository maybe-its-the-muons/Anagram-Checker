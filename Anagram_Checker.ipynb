{
 "cells": [
  {
   "cell_type": "markdown",
   "metadata": {},
   "source": [
    "# Python Sample\n",
    "\n",
    "Sample code from graduate coursework."
   ]
  },  
  {
   "cell_type": "markdown",
   "metadata": {},
   "source": [
    "## Anagram Checker\n",
    "\n",
    "This Anagram Checker validates that the two words provided by the user are anagrams.  A pair of words are considered anagrams if they are the same length and share original characters.   "
   ]
  },
  {
   "cell_type": "code",
   "execution_count": 3,
   "metadata": {},
   "outputs": [
    {
     "name": "stdout",
     "output_type": "stream",
     "text": [
      "They are anagrams\n"
     ]
    }
   ],
   "source": [
    "#Gather input from user\n",
    "word1 = input(\"Please enter the first word: \")\n",
    "word2 = input(\"Please enter the second word: \")\n",
    "\n",
    "#Generates the length of each word\n",
    "word1_list = [char for char in word1]\n",
    "word2_list = [char for char in word2]\n",
    "\n",
    "word1_length = len(word1_list)\n",
    "word2_length = len(word2_list)\n",
    "\n",
    "#Confirms lengths match before proceeding, otherwise throws an error.\n",
    "if word1_length == word2_length:\n",
    "    \n",
    "    #Confirms original characters match \n",
    "    for i in range(word1_length):\n",
    "        if word1_list[i] in word2_list:\n",
    "            print(\"They are anagrams\")\n",
    "            break\n",
    "        else:\n",
    "            print(\"They are not anagrams\")\n",
    "            break\n",
    "elif word1_length > word2_length:\n",
    "    print(\"Error. The first word is longer than the second word.\")\n",
    "elif word2_length > word1_length:\n",
    "    print(\"Error. The second word is longer than the first word.\")\n",
    "else:\n",
    "    print(\"Something went wrong, please try again.\")"
   ]
  },
  {
   "cell_type": "code",
   "execution_count": null,
   "metadata": {},
   "outputs": [],
   "source": []
  }
 ],
 "metadata": {
  "kernelspec": {
   "display_name": "Python 3",
   "language": "python",
   "name": "python3"
  },
  "language_info": {
   "codemirror_mode": {
    "name": "ipython",
    "version": 3
   },
   "file_extension": ".py",
   "mimetype": "text/x-python",
   "name": "python",
   "nbconvert_exporter": "python",
   "pygments_lexer": "ipython3",
   "version": "3.9.2"
  }
 },
 "nbformat": 4,
 "nbformat_minor": 4
}
