{
 "cells": [
  {
   "cell_type": "markdown",
   "metadata": {},
   "source": [
    "# Module 1 Discussion\n",
    "\n",
    "Design an algorithm for checking whether two given words are anagrams, i.e., whether one word can be obtained by permuting the letters of the other. For example, the words tea and eat are anagrams. Share your algorithm with the class along with a brief description of what you did to design the algorithm."
   ]
  },
  {
   "cell_type": "markdown",
   "metadata": {},
   "source": [
    "## Anagram Checker\n",
    "\n",
    "This Anagram Checker validates that the two words provided by the user are anagrams.  A pair of words are considered anagrams if they are the same length and share original characters.   "
   ]
  },
  {
   "cell_type": "code",
   "execution_count": 41,
   "metadata": {},
   "outputs": [
    {
     "name": "stdout",
     "output_type": "stream",
     "text": [
      "Please enter the first word: tea\n",
      "Please enter the second word: eat\n",
      "They are anagrams\n"
     ]
    }
   ],
   "source": [
    "#Gather input from user\n",
    "word1 = input(\"Please enter the first word: \")\n",
    "word2 = input(\"Please enter the second word: \")\n",
    "\n",
    "#Generates the length of each word\n",
    "word1_length = len([element for element in word1])\n",
    "word2_length = len([element for element in word2])\n",
    "\n",
    "#Confirms lengths match before proceeding, otherwise throws an error.\n",
    "if word1_length == word2_length:\n",
    "    word1_list = [char for char in word1]\n",
    "    word2_list = [char for char in word2]\n",
    "    \n",
    "    #Confirms original characters match \n",
    "    for i in range(len(word1_list)):\n",
    "        if word1_list[i] in word2_list:\n",
    "            print(\"They are anagrams\")\n",
    "            break\n",
    "        else:\n",
    "            print(\"They are not anagrams\")\n",
    "            break\n",
    "elif word1_length > word2_length:\n",
    "    print(\"Error. The first word is longer than the second word.\")\n",
    "elif word2_length > word1_length:\n",
    "    print(\"Error. The second word is longer than the first word.\")\n",
    "else:\n",
    "    print(\"Something went wrong, please try again.\")"
   ]
  },
  {
   "cell_type": "code",
   "execution_count": null,
   "metadata": {},
   "outputs": [],
   "source": []
  }
 ],
 "metadata": {
  "kernelspec": {
   "display_name": "Python 3",
   "language": "python",
   "name": "python3"
  },
  "language_info": {
   "codemirror_mode": {
    "name": "ipython",
    "version": 3
   },
   "file_extension": ".py",
   "mimetype": "text/x-python",
   "name": "python",
   "nbconvert_exporter": "python",
   "pygments_lexer": "ipython3",
   "version": "3.8.5"
  }
 },
 "nbformat": 4,
 "nbformat_minor": 4
}
